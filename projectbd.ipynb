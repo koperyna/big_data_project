{
  "nbformat": 4,
  "nbformat_minor": 0,
  "metadata": {
    "colab": {
      "provenance": []
    },
    "kernelspec": {
      "name": "python3",
      "display_name": "Python 3"
    },
    "language_info": {
      "name": "python"
    }
  },
  "cells": [
    {
      "cell_type": "code",
      "source": [
        "from google.colab import drive\n",
        "drive.mount('/content/drive')"
      ],
      "metadata": {
        "colab": {
          "base_uri": "https://localhost:8080/"
        },
        "id": "EGjg0VH4xdHV",
        "outputId": "e0283cce-5de6-4d91-bcee-78be1847fc43"
      },
      "execution_count": 3,
      "outputs": [
        {
          "output_type": "stream",
          "name": "stdout",
          "text": [
            "Mounted at /content/drive\n"
          ]
        }
      ]
    },
    {
      "cell_type": "code",
      "source": [
        "from pyspark.sql import SparkSession\n",
        "spark = SparkSession.builder.appName(\"IMDb Big Data Project\").getOrCreate()"
      ],
      "metadata": {
        "id": "XqEg6sLd4T65"
      },
      "execution_count": 4,
      "outputs": []
    },
    {
      "cell_type": "code",
      "source": [
        "from pyspark.sql.types import *\n",
        "from pyspark.sql.functions import *\n",
        "from pyspark.sql.window import Window"
      ],
      "metadata": {
        "id": "uXLfE_dXkRzA"
      },
      "execution_count": 7,
      "outputs": []
    },
    {
      "cell_type": "code",
      "source": [
        "#шлях до датасету\n",
        "imdb_path = \"/content/drive/MyDrive/imdb/\""
      ],
      "metadata": {
        "id": "mm2aNQmjkYwB"
      },
      "execution_count": 8,
      "outputs": []
    },
    {
      "cell_type": "markdown",
      "source": [
        "# **ЗАГАЛЬНА ІНФОРМАЦІЯ ПРО НАБІР ДАНИХ**"
      ],
      "metadata": {
        "id": "9FhhchCY-vsQ"
      }
    },
    {
      "cell_type": "code",
      "source": [
        "name_basics_schema = StructType([\n",
        "        StructField(\"nconst\", StringType(), True),\n",
        "        StructField(\"primaryName\", StringType(), True),\n",
        "        StructField(\"birthYear\", IntegerType(), True),\n",
        "        StructField(\"deathYear\", IntegerType(), True),\n",
        "        StructField(\"primaryProfession\", StringType(), True),\n",
        "        StructField(\"knownForTitles\", StringType(), True),\n",
        "    ])\n",
        "\n",
        "title_akas_schema = StructType([\n",
        "        StructField(\"titleId\", StringType(), True),\n",
        "        StructField(\"ordering\", IntegerType(), True),\n",
        "        StructField(\"title\", StringType(), True),\n",
        "        StructField(\"region\", StringType(), True),\n",
        "        StructField(\"language\", StringType(), True),\n",
        "        StructField(\"types\", StringType(), True),\n",
        "        StructField(\"attributes\", StringType(), True),\n",
        "        StructField(\"isOriginalTitle\", IntegerType(), True),\n",
        "    ])\n",
        "\n",
        "title_schema = StructType([\n",
        "        StructField(\"tconst\", StringType(), True),\n",
        "        StructField(\"titleType\", StringType(), True),\n",
        "        StructField(\"primaryTitle\", StringType(), True),\n",
        "        StructField(\"originalTitle\", StringType(), True),\n",
        "        StructField(\"isAdult\", IntegerType(), True),\n",
        "        StructField(\"startYear\", IntegerType(), True),\n",
        "        StructField(\"endYear\", IntegerType(), True),\n",
        "        StructField(\"runtimeMinutes\", IntegerType(), True),\n",
        "        StructField(\"genres\", StringType(), True),\n",
        "    ])\n",
        "\n",
        "title_crew_schema = StructType([\n",
        "        StructField(\"tconst\", StringType(), True),\n",
        "        StructField(\"directors\", StringType(), True),\n",
        "        StructField(\"writers\", StringType(), True),\n",
        "    ])\n",
        "\n",
        "title_episode_schema = StructType([\n",
        "        StructField(\"tconst\", StringType(), True),\n",
        "        StructField(\"parentTconst\", StringType(), True),\n",
        "        StructField(\"seasonNumber\", IntegerType(), True),\n",
        "        StructField(\"episodeNumber\", IntegerType(), True),\n",
        "    ])\n",
        "\n",
        "title_principals_schema = StructType([\n",
        "        StructField(\"tconst\", StringType(), True),\n",
        "        StructField(\"ordering\", IntegerType(), True),\n",
        "        StructField(\"nconst\", StringType(), True),\n",
        "        StructField(\"category\", StringType(), True),\n",
        "        StructField(\"job\", StringType(), True),\n",
        "        StructField(\"characters\", StringType(), True),\n",
        "    ])\n",
        "\n",
        "title_ratings_schema = StructType([\n",
        "        StructField(\"tconst\", StringType(), True),\n",
        "        StructField(\"averageRating\", FloatType(), True),\n",
        "        StructField(\"numVotes\", IntegerType(), True),\n",
        "    ])\n",
        "\n",
        "df_people = spark.read.csv(imdb_path + \"name.basics.tsv\", sep=\"\\t\", header=True, schema=name_basics_schema)\n",
        "\n",
        "df_akas = spark.read.csv(imdb_path + \"title.akas.tsv\", sep=\"\\t\", header=True, schema=title_akas_schema)\n",
        "\n",
        "df_title = spark.read.csv(imdb_path + \"title.basics.tsv\", sep=\"\\t\", header=True, schema=title_schema)\n",
        "\n",
        "df_crew = spark.read.csv(imdb_path + \"title.crew.tsv\", sep=\"\\t\", header=True, schema=title_crew_schema)\n",
        "\n",
        "df_episode = spark.read.csv(imdb_path + \"title.episode.tsv\", sep=\"\\t\", header=True, schema=title_episode_schema)\n",
        "\n",
        "df_principals = spark.read.csv(imdb_path + \"title.principals.tsv\", sep=\"\\t\", header=True, schema=title_principals_schema)\n",
        "\n",
        "df_ratings = spark.read.csv(imdb_path + \"title.ratings.tsv\", sep=\"\\t\", header=True, schema=title_ratings_schema)"
      ],
      "metadata": {
        "id": "8ta5mzzTqc2k"
      },
      "execution_count": 12,
      "outputs": []
    },
    {
      "cell_type": "code",
      "source": [
        "df_title.show(5)\n",
        "df_title.printSchema()\n",
        "print(\"Кількість рядків:\", df_title.count())\n",
        "print(\"Кількість стовпців:\", len(df_title.columns))\n",
        "df_title.select(\"isAdult\", \"runtimeMinutes\").describe().show(20)"
      ],
      "metadata": {
        "colab": {
          "base_uri": "https://localhost:8080/"
        },
        "collapsed": true,
        "id": "fFaWi4K2rhtm",
        "outputId": "84a3da23-398d-46ba-e77c-6d6b46718559"
      },
      "execution_count": 15,
      "outputs": [
        {
          "output_type": "stream",
          "name": "stdout",
          "text": [
            "+---------+---------+--------------------+--------------------+-------+---------+-------+--------------+--------------------+\n",
            "|   tconst|titleType|        primaryTitle|       originalTitle|isAdult|startYear|endYear|runtimeMinutes|              genres|\n",
            "+---------+---------+--------------------+--------------------+-------+---------+-------+--------------+--------------------+\n",
            "|tt0000001|    short|          Carmencita|          Carmencita|      0|     1894|   NULL|             1|   Documentary,Short|\n",
            "|tt0000002|    short|Le clown et ses c...|Le clown et ses c...|      0|     1892|   NULL|             5|     Animation,Short|\n",
            "|tt0000003|    short|        Poor Pierrot|      Pauvre Pierrot|      0|     1892|   NULL|             5|Animation,Comedy,...|\n",
            "|tt0000004|    short|         Un bon bock|         Un bon bock|      0|     1892|   NULL|            12|     Animation,Short|\n",
            "|tt0000005|    short|    Blacksmith Scene|    Blacksmith Scene|      0|     1893|   NULL|             1|               Short|\n",
            "+---------+---------+--------------------+--------------------+-------+---------+-------+--------------+--------------------+\n",
            "only showing top 5 rows\n",
            "\n",
            "root\n",
            " |-- tconst: string (nullable = true)\n",
            " |-- titleType: string (nullable = true)\n",
            " |-- primaryTitle: string (nullable = true)\n",
            " |-- originalTitle: string (nullable = true)\n",
            " |-- isAdult: integer (nullable = true)\n",
            " |-- startYear: integer (nullable = true)\n",
            " |-- endYear: integer (nullable = true)\n",
            " |-- runtimeMinutes: integer (nullable = true)\n",
            " |-- genres: string (nullable = true)\n",
            "\n",
            "Кількість рядків: 11593409\n",
            "Кількість стовпців: 9\n",
            "+-------+-------------------+------------------+\n",
            "|summary|            isAdult|    runtimeMinutes|\n",
            "+-------+-------------------+------------------+\n",
            "|  count|           11593408|           3742656|\n",
            "|   mean|0.15885380726702622|44.320780483164896|\n",
            "| stddev| 15.825965175372046| 1909.810208542978|\n",
            "|    min|                  0|                 0|\n",
            "|    max|               2025|           3692080|\n",
            "+-------+-------------------+------------------+\n",
            "\n"
          ]
        }
      ]
    },
    {
      "cell_type": "code",
      "source": [
        "df_people.show(5)\n",
        "df_people.printSchema()\n",
        "print(\"Кількість рядків:\", df_people.count())\n",
        "print(\"Кількість стовпців:\", len(df_people.columns))\n",
        "df_people.select(\"birthYear\", \"deathYear\").describe().show(20)"
      ],
      "metadata": {
        "colab": {
          "base_uri": "https://localhost:8080/"
        },
        "id": "yTmRzV1xrlj-",
        "outputId": "03bbbddc-dd51-49e9-c591-3228d5abc517"
      },
      "execution_count": 16,
      "outputs": [
        {
          "output_type": "stream",
          "name": "stdout",
          "text": [
            "+---------+---------------+---------+---------+--------------------+--------------------+\n",
            "|   nconst|    primaryName|birthYear|deathYear|   primaryProfession|      knownForTitles|\n",
            "+---------+---------------+---------+---------+--------------------+--------------------+\n",
            "|nm0000001|   Fred Astaire|     1899|     1987|actor,miscellaneo...|tt0072308,tt00504...|\n",
            "|nm0000002|  Lauren Bacall|     1924|     2014|actress,soundtrac...|tt0037382,tt00752...|\n",
            "|nm0000003|Brigitte Bardot|     1934|     NULL|actress,music_dep...|tt0057345,tt00491...|\n",
            "|nm0000004|   John Belushi|     1949|     1982|actor,writer,musi...|tt0072562,tt00779...|\n",
            "|nm0000005| Ingmar Bergman|     1918|     2007|writer,director,a...|tt0050986,tt00694...|\n",
            "+---------+---------------+---------+---------+--------------------+--------------------+\n",
            "only showing top 5 rows\n",
            "\n",
            "root\n",
            " |-- nconst: string (nullable = true)\n",
            " |-- primaryName: string (nullable = true)\n",
            " |-- birthYear: integer (nullable = true)\n",
            " |-- deathYear: integer (nullable = true)\n",
            " |-- primaryProfession: string (nullable = true)\n",
            " |-- knownForTitles: string (nullable = true)\n",
            "\n",
            "Кількість рядків: 14336581\n",
            "Кількість стовпців: 6\n",
            "+-------+------------------+------------------+\n",
            "|summary|         birthYear|         deathYear|\n",
            "+-------+------------------+------------------+\n",
            "|  count|            643377|            242511|\n",
            "|   mean|1953.9630714184684|1994.0584592039124|\n",
            "| stddev|35.665380061135096| 36.78888211735881|\n",
            "|    min|                 4|                17|\n",
            "|    max|              2024|              2025|\n",
            "+-------+------------------+------------------+\n",
            "\n"
          ]
        }
      ]
    },
    {
      "cell_type": "code",
      "source": [
        "df_akas.show(5)\n",
        "df_akas.printSchema()\n",
        "print(\"Кількість рядків:\", df_akas.count())\n",
        "print(\"Кількість стовпців:\", len(df_akas.columns))\n",
        "df_akas.select(\"isOriginalTitle\").describe().show(20)"
      ],
      "metadata": {
        "colab": {
          "base_uri": "https://localhost:8080/"
        },
        "id": "fm49eAcqrxno",
        "outputId": "5d8625a2-5f12-4282-82cd-9e9163fd7f22"
      },
      "execution_count": 17,
      "outputs": [
        {
          "output_type": "stream",
          "name": "stdout",
          "text": [
            "+---------+--------+--------------------+------+--------+-----------+-------------+---------------+\n",
            "|  titleId|ordering|               title|region|language|      types|   attributes|isOriginalTitle|\n",
            "+---------+--------+--------------------+------+--------+-----------+-------------+---------------+\n",
            "|tt0000001|       1|          Carmencita|    \\N|      \\N|   original|           \\N|              1|\n",
            "|tt0000001|       2|          Carmencita|    DE|      \\N|         \\N|literal title|              0|\n",
            "|tt0000001|       3|          Carmencita|    US|      \\N|imdbDisplay|           \\N|              0|\n",
            "|tt0000001|       4|Carmencita - span...|    HU|      \\N|imdbDisplay|           \\N|              0|\n",
            "|tt0000001|       5|          Καρμενσίτα|    GR|      \\N|imdbDisplay|           \\N|              0|\n",
            "+---------+--------+--------------------+------+--------+-----------+-------------+---------------+\n",
            "only showing top 5 rows\n",
            "\n",
            "root\n",
            " |-- titleId: string (nullable = true)\n",
            " |-- ordering: integer (nullable = true)\n",
            " |-- title: string (nullable = true)\n",
            " |-- region: string (nullable = true)\n",
            " |-- language: string (nullable = true)\n",
            " |-- types: string (nullable = true)\n",
            " |-- attributes: string (nullable = true)\n",
            " |-- isOriginalTitle: integer (nullable = true)\n",
            "\n",
            "Кількість рядків: 51910639\n",
            "Кількість стовпців: 8\n",
            "+-------+-------------------+\n",
            "|summary|    isOriginalTitle|\n",
            "+-------+-------------------+\n",
            "|  count|           51909892|\n",
            "|   mean|0.22329639984610256|\n",
            "| stddev| 0.4164554249892174|\n",
            "|    min|                  0|\n",
            "|    max|                  1|\n",
            "+-------+-------------------+\n",
            "\n"
          ]
        }
      ]
    },
    {
      "cell_type": "code",
      "source": [
        "df_crew.show(5)\n",
        "df_crew.printSchema()\n",
        "print(\"Кількість рядків:\", df_crew.count())\n",
        "print(\"Кількість стовпців:\", len(df_crew.columns))\n",
        "df_crew.select(\"directors\", \"writers\").describe().show(20)"
      ],
      "metadata": {
        "colab": {
          "base_uri": "https://localhost:8080/"
        },
        "id": "qdlTZJdjwrhS",
        "outputId": "49672181-1e1f-4252-d346-f2b42395a5aa"
      },
      "execution_count": 19,
      "outputs": [
        {
          "output_type": "stream",
          "name": "stdout",
          "text": [
            "+---------+---------+---------+\n",
            "|   tconst|directors|  writers|\n",
            "+---------+---------+---------+\n",
            "|tt0000001|nm0005690|       \\N|\n",
            "|tt0000002|nm0721526|       \\N|\n",
            "|tt0000003|nm0721526|nm0721526|\n",
            "|tt0000004|nm0721526|       \\N|\n",
            "|tt0000005|nm0005690|       \\N|\n",
            "+---------+---------+---------+\n",
            "only showing top 5 rows\n",
            "\n",
            "root\n",
            " |-- tconst: string (nullable = true)\n",
            " |-- directors: string (nullable = true)\n",
            " |-- writers: string (nullable = true)\n",
            "\n",
            "Кількість рядків: 11595616\n",
            "Кількість стовпців: 3\n",
            "+-------+---------+--------------------+\n",
            "|summary|directors|             writers|\n",
            "+-------+---------+--------------------+\n",
            "|  count| 11595616|            11595616|\n",
            "|   mean|     NULL|                NULL|\n",
            "| stddev|     NULL|                NULL|\n",
            "|    min|       \\N|                  \\N|\n",
            "|    max|nm9993709|nm9993713,nm54113...|\n",
            "+-------+---------+--------------------+\n",
            "\n"
          ]
        }
      ]
    },
    {
      "cell_type": "code",
      "source": [
        "df_episode.show(5)\n",
        "df_episode.printSchema()\n",
        "print(\"Кількість рядків:\", df_episode.count())\n",
        "print(\"Кількість стовпців:\", len(df_episode.columns))\n",
        "df_episode.select(\"seasonNumber\", \"episodeNumber\").describe().show(20)"
      ],
      "metadata": {
        "colab": {
          "base_uri": "https://localhost:8080/"
        },
        "id": "XyxKLYPpws1Y",
        "outputId": "378096b4-e974-470f-9e42-ed36bdfb02c7"
      },
      "execution_count": 21,
      "outputs": [
        {
          "output_type": "stream",
          "name": "stdout",
          "text": [
            "+---------+------------+------------+-------------+\n",
            "|   tconst|parentTconst|seasonNumber|episodeNumber|\n",
            "+---------+------------+------------+-------------+\n",
            "|tt0031458|  tt32857063|        NULL|         NULL|\n",
            "|tt0041951|   tt0041038|           1|            9|\n",
            "|tt0042816|   tt0989125|           1|           17|\n",
            "|tt0042889|   tt0989125|        NULL|         NULL|\n",
            "|tt0043426|   tt0040051|           3|           42|\n",
            "+---------+------------+------------+-------------+\n",
            "only showing top 5 rows\n",
            "\n",
            "root\n",
            " |-- tconst: string (nullable = true)\n",
            " |-- parentTconst: string (nullable = true)\n",
            " |-- seasonNumber: integer (nullable = true)\n",
            " |-- episodeNumber: integer (nullable = true)\n",
            "\n",
            "Кількість рядків: 8919371\n",
            "Кількість стовпців: 4\n",
            "+-------+------------------+-----------------+\n",
            "|summary|      seasonNumber|    episodeNumber|\n",
            "+-------+------------------+-----------------+\n",
            "|  count|           7094691|          7094691|\n",
            "|   mean| 3.818385465977306|419.7858889132733|\n",
            "| stddev|23.795991217886993|1330.196264186153|\n",
            "|    min|                 1|                0|\n",
            "|    max|              2024|            91334|\n",
            "+-------+------------------+-----------------+\n",
            "\n"
          ]
        }
      ]
    },
    {
      "cell_type": "code",
      "source": [
        "df_principals.show(5)\n",
        "df_principals.printSchema()\n",
        "print(\"Кількість рядків:\", df_principals.count())\n",
        "print(\"Кількість стовпців:\", len(df_principals.columns))\n",
        "df_principals.select(\"ordering\").describe().show(20)"
      ],
      "metadata": {
        "colab": {
          "base_uri": "https://localhost:8080/"
        },
        "id": "X8lgYBbqwtI7",
        "outputId": "3c8d7f8f-6a65-42a0-d70b-2eeb64123c0f"
      },
      "execution_count": 23,
      "outputs": [
        {
          "output_type": "stream",
          "name": "stdout",
          "text": [
            "+---------+--------+---------+---------------+--------------------+----------+\n",
            "|   tconst|ordering|   nconst|       category|                 job|characters|\n",
            "+---------+--------+---------+---------------+--------------------+----------+\n",
            "|tt0000001|       1|nm1588970|           self|                  \\N|  [\"Self\"]|\n",
            "|tt0000001|       2|nm0005690|       director|                  \\N|        \\N|\n",
            "|tt0000001|       3|nm0005690|       producer|            producer|        \\N|\n",
            "|tt0000001|       4|nm0374658|cinematographer|director of photo...|        \\N|\n",
            "|tt0000002|       1|nm0721526|       director|                  \\N|        \\N|\n",
            "+---------+--------+---------+---------------+--------------------+----------+\n",
            "only showing top 5 rows\n",
            "\n",
            "root\n",
            " |-- tconst: string (nullable = true)\n",
            " |-- ordering: integer (nullable = true)\n",
            " |-- nconst: string (nullable = true)\n",
            " |-- category: string (nullable = true)\n",
            " |-- job: string (nullable = true)\n",
            " |-- characters: string (nullable = true)\n",
            "\n",
            "Кількість рядків: 92047270\n",
            "Кількість стовпців: 6\n",
            "+-------+------------------+\n",
            "|summary|          ordering|\n",
            "+-------+------------------+\n",
            "|  count|          92047270|\n",
            "|   mean| 7.021254166473378|\n",
            "| stddev|5.1593661035509175|\n",
            "|    min|                 1|\n",
            "|    max|                75|\n",
            "+-------+------------------+\n",
            "\n"
          ]
        }
      ]
    },
    {
      "cell_type": "code",
      "source": [
        "df_ratings.show(5)\n",
        "df_ratings.printSchema()\n",
        "print(\"Кількість рядків:\", df_ratings.count())\n",
        "print(\"Кількість стовпців:\", len(df_ratings.columns))\n",
        "df_ratings.select(\"averageRating\", \"numVotes\").describe().show(20)"
      ],
      "metadata": {
        "colab": {
          "base_uri": "https://localhost:8080/"
        },
        "id": "u_HhZH7lwz13",
        "outputId": "66a865b4-be88-4c64-f23d-8c0e289e29ba"
      },
      "execution_count": 24,
      "outputs": [
        {
          "output_type": "stream",
          "name": "stdout",
          "text": [
            "+---------+-------------+--------+\n",
            "|   tconst|averageRating|numVotes|\n",
            "+---------+-------------+--------+\n",
            "|tt0000001|          5.7|    2149|\n",
            "|tt0000002|          5.5|     292|\n",
            "|tt0000003|          6.5|    2185|\n",
            "|tt0000004|          5.3|     188|\n",
            "|tt0000005|          6.2|    2931|\n",
            "+---------+-------------+--------+\n",
            "only showing top 5 rows\n",
            "\n",
            "root\n",
            " |-- tconst: string (nullable = true)\n",
            " |-- averageRating: float (nullable = true)\n",
            " |-- numVotes: integer (nullable = true)\n",
            "\n",
            "Кількість рядків: 1560001\n",
            "Кількість стовпців: 3\n",
            "+-------+----------------+------------------+\n",
            "|summary|   averageRating|          numVotes|\n",
            "+-------+----------------+------------------+\n",
            "|  count|         1560001|           1560001|\n",
            "|   mean|6.95038644828358|1022.6708694417504|\n",
            "| stddev|1.38674558917145|17816.708925974348|\n",
            "|    min|             1.0|                 5|\n",
            "|    max|            10.0|           3032380|\n",
            "+-------+----------------+------------------+\n",
            "\n"
          ]
        }
      ]
    },
    {
      "cell_type": "markdown",
      "source": [
        "#**БІЗНЕС ПИТАННЯ**"
      ],
      "metadata": {
        "id": "tgqkwH4QyiT_"
      }
    },
    {
      "cell_type": "code",
      "source": [
        "#фільми українською\n",
        "#FILTER\n",
        "ukr_movies = df_akas.filter(col(\"language\") == 'uk').select(\"title\").distinct()\n",
        "ukr_movies.show(20)"
      ],
      "metadata": {
        "colab": {
          "base_uri": "https://localhost:8080/"
        },
        "id": "H16Dr4T_zFk0",
        "outputId": "f3c86fe1-894b-4842-a88d-8fcdf769342b"
      },
      "execution_count": 26,
      "outputs": [
        {
          "output_type": "stream",
          "name": "stdout",
          "text": [
            "+--------------------+\n",
            "|               title|\n",
            "+--------------------+\n",
            "|             Я люблю|\n",
            "|          Знак Зорро|\n",
            "|               Друга|\n",
            "|  Zacharovane mistse|\n",
            "|       Кіра Кіраліна|\n",
            "|         Чорна шкіра|\n",
            "|Чи легко бути мол...|\n",
            "|           Студентка|\n",
            "|Народжена революцією|\n",
            "|              Привид|\n",
            "|    Bahata narechena|\n",
            "|    Сумка дипкур'єра|\n",
            "|     Люлька комунара|\n",
            "|    Жінка в дзеркалі|\n",
            "|      Дім зненависти|\n",
            "|     U mertviy petli|\n",
            "|       П'ять вечорів|\n",
            "|          Ridna krov|\n",
            "|        Їхнє царство|\n",
            "|Кавказька полонян...|\n",
            "+--------------------+\n",
            "only showing top 20 rows\n",
            "\n"
          ]
        }
      ]
    },
    {
      "cell_type": "code",
      "source": [
        "#топ 5 фільмів кожною мовою\n",
        "#WINDOW and JOIN\n",
        "df_akas_with_ratings = df_akas.join(df_ratings, df_akas.titleId == df_ratings.tconst, \"inner\")\n",
        "window = Window.partitionBy(\"language\").orderBy(col(\"averageRating\").desc())\n",
        "top_5_lang = df_akas_with_ratings.withColumn(\"rank\", rank().over(window)).filter(col(\"rank\") <= 5)\n",
        "top_5_lang.show(20)"
      ],
      "metadata": {
        "colab": {
          "base_uri": "https://localhost:8080/"
        },
        "id": "h4Y7YKpfzNLd",
        "outputId": "5bc19331-1ffa-432d-c6b8-dcd225645eb2"
      },
      "execution_count": 31,
      "outputs": [
        {
          "output_type": "stream",
          "name": "stdout",
          "text": [
            "+----------+--------+--------------------+------+--------+-----------+--------------+---------------+----------+-------------+--------+----+\n",
            "|   titleId|ordering|               title|region|language|      types|    attributes|isOriginalTitle|    tconst|averageRating|numVotes|rank|\n",
            "+----------+--------+--------------------+------+--------+-----------+--------------+---------------+----------+-------------+--------+----+\n",
            "| tt3984412|       1|I'm Not Going to ...|  NULL|    NULL|       NULL|          NULL|           NULL| tt3984412|          8.1|       7|   1|\n",
            "| tt3984412|       2|I'm Not Going to ...|  NULL|    NULL|       NULL|          NULL|           NULL| tt3984412|          8.1|       7|   1|\n",
            "|tt12149332|       1|Jeopardy! College...|  NULL|    NULL|       NULL|          NULL|           NULL|tt12149332|          6.9|       9|   3|\n",
            "|tt12149332|       2|Jeopardy! College...|  NULL|    NULL|       NULL|          NULL|           NULL|tt12149332|          6.9|       9|   3|\n",
            "|tt28535095|       1|I'm into Sharif B...|  NULL|    NULL|       NULL|          NULL|           NULL|tt28535095|          6.2|      15|   5|\n",
            "|tt28535095|       2|I'm into Sharif B...|  NULL|    NULL|       NULL|          NULL|           NULL|tt28535095|          6.2|      15|   5|\n",
            "| tt0310219|       1|        The Terrapin|    \\N|      \\N|   original|            \\N|              1| tt0310219|         10.0|       9|   1|\n",
            "| tt0310219|       2|Patricia Highsmit...|    US|      \\N|         \\N|complete title|              0| tt0310219|         10.0|       9|   1|\n",
            "| tt0310219|       3|        The Terrapin|    US|      \\N|imdbDisplay|            \\N|              0| tt0310219|         10.0|       9|   1|\n",
            "| tt0335505|       1|The Unbroken Circ...|    \\N|      \\N|   original|            \\N|              1| tt0335505|         10.0|      14|   1|\n",
            "| tt0335505|       2|The Unbroken Circ...|    US|      \\N|imdbDisplay|            \\N|              0| tt0335505|         10.0|      14|   1|\n",
            "|tt10515774|       1|    Naukri ya Chokri|    \\N|      \\N|   original|            \\N|              1|tt10515774|         10.0|       7|   1|\n",
            "|tt10642018|       1|        Episode #1.7|    \\N|      \\N|   original|            \\N|              1|tt10642018|         10.0|       6|   1|\n",
            "| tt1084014|       1|                 Ing|    \\N|      \\N|   original|            \\N|              1| tt1084014|         10.0|       8|   1|\n",
            "| tt1084014|       2|                 Ing|    US|      \\N|imdbDisplay|            \\N|              0| tt1084014|         10.0|       8|   1|\n",
            "|tt10915418|       1|            Stenches|    \\N|      \\N|   original|            \\N|              1|tt10915418|         10.0|       9|   1|\n",
            "|tt10915418|       2|            Stenches|    US|      \\N|imdbDisplay|            \\N|              0|tt10915418|         10.0|       9|   1|\n",
            "|tt11090556|       1|      Eyes Wide Open|    \\N|      \\N|   original|            \\N|              1|tt11090556|         10.0|      10|   1|\n",
            "|tt11090556|       2|      Eyes Wide Open|    US|      \\N|imdbDisplay|            \\N|              0|tt11090556|         10.0|      10|   1|\n",
            "|tt11106556|       1| Thug Edwardian Lady|    \\N|      \\N|   original|            \\N|              1|tt11106556|         10.0|       9|   1|\n",
            "+----------+--------+--------------------+------+--------+-----------+--------------+---------------+----------+-------------+--------+----+\n",
            "only showing top 20 rows\n",
            "\n"
          ]
        }
      ]
    },
    {
      "cell_type": "code",
      "source": [
        "#фільми після 2015\n",
        "#FILTER\n",
        "after_2015_movies = df_title.filter(col(\"startYear\") > '2015').select(\"primaryTitle\", \"startYear\")\n",
        "after_2015_movies.show(20)"
      ],
      "metadata": {
        "colab": {
          "base_uri": "https://localhost:8080/"
        },
        "id": "47V-jakW0Ep2",
        "outputId": "29588327-cc99-4aa0-bf97-bb7dc4b25acf"
      },
      "execution_count": 32,
      "outputs": [
        {
          "output_type": "stream",
          "name": "stdout",
          "text": [
            "+--------------------+---------+\n",
            "|        primaryTitle|startYear|\n",
            "+--------------------+---------+\n",
            "|    Tötet nicht mehr|     2019|\n",
            "|            Aufsätze|     2021|\n",
            "|Number 14: Late S...|     2023|\n",
            "|            EMS nr 1|     2016|\n",
            "|A Embalagem de Vidro|     2020|\n",
            "|The Tango of the ...|     2020|\n",
            "|The Other Side of...|     2018|\n",
            "|   Socialist Realism|     2023|\n",
            "|       Anything Goes|     2022|\n",
            "|Histórias de Comb...|     2022|\n",
            "| Grizzly II: Revenge|     2020|\n",
            "|      Loading Ludwig|     2022|\n",
            "|The Wandering Soa...|     2017|\n",
            "|Beach Birds for C...|     2024|\n",
            "|  Neues in Wittstock|     2021|\n",
            "|       Fado Lusitano|     2023|\n",
            "|         A Thin Life|     2018|\n",
            "|             Bigfoot|     2017|\n",
            "| Mariette in Ecstasy|     2019|\n",
            "|The Surgeon of th...|     2022|\n",
            "+--------------------+---------+\n",
            "only showing top 20 rows\n",
            "\n"
          ]
        }
      ]
    },
    {
      "cell_type": "code",
      "source": [
        "#фільми довші за 122 хв\n",
        "#FILTER\n",
        "more_122_min = df_title.filter(col(\"runtimeMinutes\").cast(\"int\") > 122).select(\"primaryTitle\", \"runtimeMinutes\")\n",
        "more_122_min.show(20)"
      ],
      "metadata": {
        "colab": {
          "base_uri": "https://localhost:8080/"
        },
        "id": "NftKnQD-0WrV",
        "outputId": "74372baf-e20e-4c9d-ae13-119d0c92c444"
      },
      "execution_count": 33,
      "outputs": [
        {
          "output_type": "stream",
          "name": "stdout",
          "text": [
            "+--------------------+--------------+\n",
            "|        primaryTitle|runtimeMinutes|\n",
            "+--------------------+--------------+\n",
            "|What Happened to ...|           150|\n",
            "|The Adventures of...|           300|\n",
            "|Germinal; or, The...|           150|\n",
            "|Les Misérables, P...|           300|\n",
            "|The Active Life o...|           170|\n",
            "|The Beloved Adven...|           450|\n",
            "|             Cabiria|           148|\n",
            "|  The Child of Paris|           124|\n",
            "|The Exploits of E...|           220|\n",
            "|The Hazards of Helen|          1428|\n",
            "|Lucille Love: The...|           300|\n",
            "|      The Master Key|           310|\n",
            "|The Perils of Pau...|           199|\n",
            "|The Port of Missi...|           139|\n",
            "|El signo de la tribu|           219|\n",
            "|  The Trey o' Hearts|           310|\n",
            "|The Birth of a Na...|           195|\n",
            "|       The Black Box|           195|\n",
            "|     The Broken Coin|           440|\n",
            "|El testamento de ...|           293|\n",
            "+--------------------+--------------+\n",
            "only showing top 20 rows\n",
            "\n"
          ]
        }
      ]
    },
    {
      "cell_type": "code",
      "source": [
        "#кількість фільмів по жанрах\n",
        "#GROUPBY\n",
        "amount_movies_per_genre = df_title.groupBy(\"genres\").count().orderBy(\"count\", ascending=False)\n",
        "amount_movies_per_genre.show(20)"
      ],
      "metadata": {
        "colab": {
          "base_uri": "https://localhost:8080/"
        },
        "id": "aC9GH_mf1EH0",
        "outputId": "64608c64-f8dc-43dd-83ec-d4a471da9cfa"
      },
      "execution_count": 34,
      "outputs": [
        {
          "output_type": "stream",
          "name": "stdout",
          "text": [
            "+-----------------+-------+\n",
            "|           genres|  count|\n",
            "+-----------------+-------+\n",
            "|            Drama|1307026|\n",
            "|           Comedy| 754248|\n",
            "|        Talk-Show| 733689|\n",
            "|             News| 605240|\n",
            "|      Documentary| 558333|\n",
            "|    Drama,Romance| 525895|\n",
            "|               \\N| 510324|\n",
            "|       Reality-TV| 369200|\n",
            "|            Adult| 317417|\n",
            "|   News,Talk-Show| 262821|\n",
            "|            Short| 226072|\n",
            "|      Drama,Short| 217471|\n",
            "|           Family| 203691|\n",
            "|        Game-Show| 190400|\n",
            "|     Comedy,Short| 163789|\n",
            "|Documentary,Short| 160922|\n",
            "|            Sport| 148037|\n",
            "|            Music| 120145|\n",
            "|          Romance| 116949|\n",
            "| Comedy,Talk-Show| 116383|\n",
            "+-----------------+-------+\n",
            "only showing top 20 rows\n",
            "\n"
          ]
        }
      ]
    },
    {
      "cell_type": "code",
      "source": [
        "#Cередня тривалість фільмів по жанрах\n",
        "#GROUPBY\n",
        "avg_length_movies_per_genre = df_title.withColumn(\"runtime\", col(\"runtimeMinutes\").cast(\"int\")) \\\n",
        "    .groupBy(\"genres\").avg(\"runtime\").orderBy(\"avg(runtime)\", ascending=False)\n",
        "avg_length_movies_per_genre.show(20)"
      ],
      "metadata": {
        "colab": {
          "base_uri": "https://localhost:8080/"
        },
        "id": "TE-O28Sm1nyx",
        "outputId": "af21a025-e22a-4b81-a21a-5deedadd536d"
      },
      "execution_count": 35,
      "outputs": [
        {
          "output_type": "stream",
          "name": "stdout",
          "text": [
            "+--------------------+------------------+\n",
            "|              genres|      avg(runtime)|\n",
            "+--------------------+------------------+\n",
            "|Comedy,Drama,Real...|  7646.80206185567|\n",
            "|Music,Musical,Rea...|           488.625|\n",
            "|Action,Fantasy,Ta...|             480.0|\n",
            "|        News,Romance|             480.0|\n",
            "|Game-Show,History...|             225.0|\n",
            "|Action,Adult,History|             200.0|\n",
            "|Family,News,Reali...|             193.2|\n",
            "|Action,Game-Show,...|             180.0|\n",
            "|Adventure,Crime,News|             178.0|\n",
            "|          Sci-Fi,War|162.16666666666666|\n",
            "|Game-Show,Music,T...|159.80769230769232|\n",
            "|Musical,Romance,T...|             159.4|\n",
            "|Adult,Fantasy,Wes...|             158.0|\n",
            "|Documentary,Fanta...|             157.0|\n",
            "|Family,Musical,Re...|             155.0|\n",
            "|Music,Sport,Talk-...|150.33333333333334|\n",
            "|Biography,Music,S...|             150.0|\n",
            "|Mystery,Reality-T...|             150.0|\n",
            "|Adult,Drama,Reali...|             149.0|\n",
            "|   Adventure,Fantasy|145.88201712654615|\n",
            "+--------------------+------------------+\n",
            "only showing top 20 rows\n",
            "\n"
          ]
        }
      ]
    },
    {
      "cell_type": "code",
      "source": [
        "#топ3 фільми за рейтингом у кожному жанрі\n",
        "#WINDOW\n",
        "df_joined = df_title.join(df_ratings, \"tconst\")\n",
        "windowSpec = Window.partitionBy(\"genres\").orderBy(col(\"averageRating\").desc())\n",
        "top_3_each_genre = df_joined.withColumn(\"rank\", rank().over(windowSpec)).filter(col(\"rank\") <= 3)\n",
        "top_3_each_genre.select(\"primaryTitle\", \"genres\", \"averageRating\", \"rank\").show(20)\n"
      ],
      "metadata": {
        "colab": {
          "base_uri": "https://localhost:8080/"
        },
        "id": "aw4alk713UQm",
        "outputId": "01000dc8-4638-4f83-917d-727849247075"
      },
      "execution_count": 37,
      "outputs": [
        {
          "output_type": "stream",
          "name": "stdout",
          "text": [
            "+--------------------+------+-------------+----+\n",
            "|        primaryTitle|genres|averageRating|rank|\n",
            "+--------------------+------+-------------+----+\n",
            "|\"I'm Not Going to...|  NULL|          8.1|   1|\n",
            "|\"Jeopardy! Colleg...|  NULL|          6.9|   2|\n",
            "|\"I'm into Sharif ...|  NULL|          6.2|   3|\n",
            "|Psychology of Con...|Action|         10.0|   1|\n",
            "|In a Dying World ...|Action|         10.0|   1|\n",
            "|       Episode #1.17|Action|         10.0|   1|\n",
            "|       Bhasm Ka Sach|Action|         10.0|   1|\n",
            "|            El bruto|Action|         10.0|   1|\n",
            "|           Nachtflug|Action|         10.0|   1|\n",
            "|Bhasm Ki Nayi Peh...|Action|         10.0|   1|\n",
            "|               Pilot|Action|         10.0|   1|\n",
            "|      Phoenix Harris|Action|         10.0|   1|\n",
            "| Wasiat Naga Bergola|Action|         10.0|   1|\n",
            "|El árbol de la horca|Action|         10.0|   1|\n",
            "|Defensive Improvi...|Action|         10.0|   1|\n",
            "|         Episódio 08|Action|         10.0|   1|\n",
            "|               Pilot|Action|         10.0|   1|\n",
            "|Testamento En Blanco|Action|         10.0|   1|\n",
            "|       Episode #1.14|Action|         10.0|   1|\n",
            "|       Episode #1.18|Action|         10.0|   1|\n",
            "+--------------------+------+-------------+----+\n",
            "only showing top 20 rows\n",
            "\n"
          ]
        }
      ]
    },
    {
      "cell_type": "code",
      "source": [
        "#актори і фільми\n",
        "#JOIN\n",
        "df_actors = df_principals.filter(col(\"category\") == \"actor\").join(df_people, \"nconst\")\n",
        "df_actors.select(\"primaryName\", \"tconst\").show(5)"
      ],
      "metadata": {
        "colab": {
          "base_uri": "https://localhost:8080/"
        },
        "id": "jf20IMsC4El5",
        "outputId": "73b1a22f-5b9e-416b-c8ea-813c3c389a12"
      },
      "execution_count": 38,
      "outputs": [
        {
          "output_type": "stream",
          "name": "stdout",
          "text": [
            "+------------+---------+\n",
            "| primaryName|   tconst|\n",
            "+------------+---------+\n",
            "|John Belushi|tt0076816|\n",
            "|John Belushi|tt0077147|\n",
            "|John Belushi|tt0077621|\n",
            "|John Belushi|tt0077975|\n",
            "|John Belushi|tt0078723|\n",
            "+------------+---------+\n",
            "only showing top 5 rows\n",
            "\n"
          ]
        }
      ]
    },
    {
      "cell_type": "markdown",
      "source": [
        "# **ЗАПИС РЕЗУЛЬТАТІВ**"
      ],
      "metadata": {
        "id": "m_LwcKOn_tdd"
      }
    },
    {
      "cell_type": "code",
      "source": [
        "top_3_each_genre.write.csv(\"/content/drive/MyDrive/imdb/output/top3_each_genre.csv\", header=True, mode=\"overwrite\")\n",
        "print(\"Запис результатів завершено!\")"
      ],
      "metadata": {
        "colab": {
          "base_uri": "https://localhost:8080/"
        },
        "id": "qrYkXphqI02u",
        "outputId": "1d38ee74-96cf-4641-97ed-873a27ca5e3f"
      },
      "execution_count": 44,
      "outputs": [
        {
          "output_type": "stream",
          "name": "stdout",
          "text": [
            "Запис результатів завершено!\n"
          ]
        }
      ]
    },
    {
      "cell_type": "code",
      "source": [
        "ukr_movies.write.csv(\"/content/drive/MyDrive/imdb/output/ukr_movies.csv\", header=True, mode=\"overwrite\")\n",
        "print(\"Запис результатів завершено!\")"
      ],
      "metadata": {
        "colab": {
          "base_uri": "https://localhost:8080/"
        },
        "id": "GR8LfKzNI1aj",
        "outputId": "41fa7a7c-efa7-4460-9d32-0224044a561c"
      },
      "execution_count": 45,
      "outputs": [
        {
          "output_type": "stream",
          "name": "stdout",
          "text": [
            "Запис результатів завершено!\n"
          ]
        }
      ]
    },
    {
      "cell_type": "code",
      "source": [
        "avg_length_movies_per_genre.write.csv(\"/content/drive/MyDrive/imdb/output/avg_length_movies_per_genre.csv\", header=True, mode=\"overwrite\")\n",
        "print(\"Запис результатів завершено!\")"
      ],
      "metadata": {
        "colab": {
          "base_uri": "https://localhost:8080/"
        },
        "id": "ZIP13SOxI6Gi",
        "outputId": "b2a901bc-a628-4a8e-f8f2-915c736d61cf"
      },
      "execution_count": 46,
      "outputs": [
        {
          "output_type": "stream",
          "name": "stdout",
          "text": [
            "Запис результатів завершено!\n"
          ]
        }
      ]
    },
    {
      "cell_type": "code",
      "source": [
        "more_122_min.write.csv(\"/content/drive/MyDrive/imdb/output/more_122_min.csv\", header=True, mode=\"overwrite\")\n",
        "print(\"Запис результатів завершено!\")"
      ],
      "metadata": {
        "colab": {
          "base_uri": "https://localhost:8080/"
        },
        "id": "BU-CYy_3I8I_",
        "outputId": "ddb1f7df-9266-4964-efbb-1c7b18b9f299"
      },
      "execution_count": 47,
      "outputs": [
        {
          "output_type": "stream",
          "name": "stdout",
          "text": [
            "Запис результатів завершено!\n"
          ]
        }
      ]
    },
    {
      "cell_type": "code",
      "source": [
        "after_2015_movies.write.csv(\"/content/drive/MyDrive/imdb/output/after_2015_movies.csv\", header=True, mode=\"overwrite\")\n",
        "print(\"Запис результатів завершено!\")"
      ],
      "metadata": {
        "colab": {
          "base_uri": "https://localhost:8080/"
        },
        "id": "Ln5gyC7BI9mf",
        "outputId": "6703f8f8-96f1-4a81-f0e5-0f30b4e67730"
      },
      "execution_count": 48,
      "outputs": [
        {
          "output_type": "stream",
          "name": "stdout",
          "text": [
            "Запис результатів завершено!\n"
          ]
        }
      ]
    },
    {
      "cell_type": "code",
      "source": [
        "top_5_lang.write.csv(\"/content/drive/MyDrive/imdb/output/top_5_lang.csv\", header=True, mode=\"overwrite\")\n",
        "print(\"Запис результатів завершено!\")"
      ],
      "metadata": {
        "colab": {
          "base_uri": "https://localhost:8080/"
        },
        "id": "rT6j5yL-I_jF",
        "outputId": "237609cf-361a-483b-9258-7d2e6f63f8f6"
      },
      "execution_count": 49,
      "outputs": [
        {
          "output_type": "stream",
          "name": "stdout",
          "text": [
            "Запис результатів завершено!\n"
          ]
        }
      ]
    },
    {
      "cell_type": "code",
      "source": [
        "amount_movies_per_genre.write.csv(\"/content/drive/MyDrive/imdb/output/amount_movies_per_genre.csv\", header=True, mode=\"overwrite\")\n",
        "print(\"Запис результатів завершено!\")"
      ],
      "metadata": {
        "colab": {
          "base_uri": "https://localhost:8080/"
        },
        "id": "bKrGz6QUJBCY",
        "outputId": "91b47ca2-2afb-46c0-8a1d-479250163bb3"
      },
      "execution_count": 50,
      "outputs": [
        {
          "output_type": "stream",
          "name": "stdout",
          "text": [
            "Запис результатів завершено!\n"
          ]
        }
      ]
    }
  ]
}